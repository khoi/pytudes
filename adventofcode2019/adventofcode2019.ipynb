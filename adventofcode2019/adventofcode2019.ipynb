{
 "cells": [
  {
   "cell_type": "code",
   "execution_count": 1,
   "metadata": {},
   "outputs": [],
   "source": [
    "# helper\n",
    "import math\n",
    "\n",
    "def rangei(low, high, step = 1):\n",
    "    return range(low, high + 1, step)\n",
    "\n",
    "def get_digit(number, n):\n",
    "    return number // 10**n % 10\n",
    "\n",
    "def digits(n):\n",
    "    return int(math.log10(n))+1"
   ]
  },
  {
   "cell_type": "markdown",
   "metadata": {},
   "source": [
    "## Day 1"
   ]
  },
  {
   "cell_type": "code",
   "execution_count": 2,
   "metadata": {},
   "outputs": [
    {
     "name": "stdout",
     "output_type": "stream",
     "text": [
      "3337604\n",
      "5003530\n"
     ]
    }
   ],
   "source": [
    "def fuel(mass):\n",
    "    return (mass // 3) - 2\n",
    "\n",
    "def fuel2(mass):\n",
    "    res = (mass // 3) - 2\n",
    "    if res <= 0:\n",
    "        return 0\n",
    "    return res + fuel2(res)\n",
    "\n",
    "f = open('day1.txt')\n",
    "masses = [int(v) for v in f.read().splitlines()]\n",
    "\n",
    "print(sum([fuel(x) for x in masses]))\n",
    "print(sum([fuel2(x) for x in masses]))"
   ]
  },
  {
   "cell_type": "markdown",
   "metadata": {},
   "source": [
    "## Day 2"
   ]
  },
  {
   "cell_type": "code",
   "execution_count": 3,
   "metadata": {},
   "outputs": [
    {
     "name": "stdout",
     "output_type": "stream",
     "text": [
      "noun 53, verb 79\n",
      "5379\n"
     ]
    }
   ],
   "source": [
    "import os\n",
    "f = open('day2.txt')\n",
    "inputs = [int(code) for code in f.read().split(\",\")]\n",
    "\n",
    "\n",
    "def day2(codes):\n",
    "    codes = codes.copy()\n",
    "    idx = 0\n",
    "    while idx < len(codes):\n",
    "        opcode = codes[idx]\n",
    "        aIdx = codes[idx + 1]\n",
    "        bIdx = codes[idx + 2]\n",
    "        resultIdx = codes[idx + 3]\n",
    "        if opcode == 99:\n",
    "            return codes[0]\n",
    "        elif opcode == 1:\n",
    "            codes[resultIdx] = codes[aIdx] + codes[bIdx]\n",
    "        elif opcode == 2:\n",
    "            codes[resultIdx] = codes[aIdx] * codes[bIdx]\n",
    "        else:\n",
    "            raise Exception('WTF!') \n",
    "        idx += 4\n",
    "    return codes[0]\n",
    "    \n",
    "part1Inputs = inputs.copy()\n",
    "part1Inputs[1] = 12\n",
    "part1Inputs[2] = 2\n",
    "r = day2(inputs)\n",
    "\n",
    "nouns = list(range(0, 100))\n",
    "verbs = list(range(0, 100))\n",
    "expected_output = 19690720\n",
    "part2Inputs = inputs.copy()\n",
    "\n",
    "for n in nouns:\n",
    "    for v in verbs:\n",
    "        part2Inputs[1] = n\n",
    "        part2Inputs[2] = v\n",
    "        if (day2(part2Inputs) == expected_output):\n",
    "            print(f\"noun {n}, verb {v}\")\n",
    "            print(100 * n + v)"
   ]
  },
  {
   "cell_type": "markdown",
   "metadata": {},
   "source": [
    "## Day 3"
   ]
  },
  {
   "cell_type": "code",
   "execution_count": 4,
   "metadata": {},
   "outputs": [
    {
     "data": {
      "text/plain": [
       "1337"
      ]
     },
     "execution_count": 4,
     "metadata": {},
     "output_type": "execute_result"
    }
   ],
   "source": [
    "f = open('day3.txt')\n",
    "inputs = f.read().splitlines()\n",
    "first = inputs[0].split(\",\")\n",
    "second = inputs[1].split(\",\")\n",
    "\n",
    "def build_visited(instructions):\n",
    "    visited = {(0, 0)} # started at the first node\n",
    "    curr = (0,0)\n",
    "    for p in instructions: \n",
    "        direction = p[0]\n",
    "        step = int(p[1:])\n",
    "        if direction == \"U\":\n",
    "            visited.update([(curr[0], curr[1] + i + 1) for i in range(0, step)])\n",
    "            curr = (curr[0], curr[1] + step)\n",
    "        if direction == \"R\":\n",
    "            visited.update([(curr[0] + i + 1, curr[1]) for i in range(0, step)])\n",
    "            curr = (curr[0] + step, curr[1])\n",
    "        if direction == \"D\":\n",
    "            visited.update([(curr[0], curr[1] - i - 1) for i in range(0, step)])\n",
    "            curr = (curr[0], curr[1] - step)\n",
    "        if direction == \"L\":\n",
    "            visited.update([(curr[0] - i - 1, curr[1]) for i in range(0, step)])\n",
    "            curr = (curr[0] - step, curr[1])\n",
    "    return visited\n",
    "\n",
    "def manhattan_distance(x1, y1, x2, y2):\n",
    "    return abs(x1 - x2) + abs(y1 - y2)\n",
    "\n",
    "\n",
    "intersections = build_visited(first) & build_visited(second)\n",
    "intersections.remove((0,0)) # 0,0 doesn't count\n",
    "min([manhattan_distance(0,0,i[0],i[1]) for i in intersections])"
   ]
  },
  {
   "cell_type": "code",
   "execution_count": 5,
   "metadata": {},
   "outputs": [
    {
     "data": {
      "text/plain": [
       "65356"
      ]
     },
     "execution_count": 5,
     "metadata": {},
     "output_type": "execute_result"
    }
   ],
   "source": [
    "def shortest_distance(instructions, intersection):\n",
    "    curr = (0,0)\n",
    "    step_taken = 0\n",
    "    for p in instructions: \n",
    "        direction = p[0]\n",
    "        step = int(p[1:])\n",
    "        if direction == \"U\":\n",
    "            if intersection[0] == curr[0] and (curr[1] + step) > intersection[1]:\n",
    "                return step_taken + abs(curr[1] - intersection[1])\n",
    "            curr = (curr[0], curr[1] + step)\n",
    "        if direction == \"R\":\n",
    "            if intersection[1] == curr[1] and (curr[0] + step) > intersection[0]:\n",
    "                return step_taken + abs(curr[0] - intersection[0])\n",
    "            curr = (curr[0] + step, curr[1])\n",
    "        if direction == \"D\":\n",
    "            if intersection[0] == curr[0] and (curr[1] - step) < intersection[1]:\n",
    "                return step_taken + abs(curr[1] - intersection[1])\n",
    "            curr = (curr[0], curr[1] - step)\n",
    "        if direction == \"L\":\n",
    "            if intersection[1] == curr[1] and (curr[0] - step) < intersection[0]:\n",
    "                return step_taken + abs(curr[0] - intersection[0])\n",
    "            curr = (curr[0] - step, curr[1])\n",
    "        step_taken += step\n",
    "    return 99999\n",
    "\n",
    "intersections = build_visited(first) & build_visited(second)\n",
    "intersections.remove((0,0))\n",
    "min([shortest_distance(first, i) + shortest_distance(second, i) for i in intersections])"
   ]
  },
  {
   "cell_type": "markdown",
   "metadata": {},
   "source": [
    "## Day 4"
   ]
  },
  {
   "cell_type": "code",
   "execution_count": 6,
   "metadata": {},
   "outputs": [
    {
     "data": {
      "text/plain": [
       "1150"
      ]
     },
     "execution_count": 6,
     "metadata": {},
     "output_type": "execute_result"
    }
   ],
   "source": [
    "low = 240298\n",
    "high = 784956\n",
    "\n",
    "inputs = [i for i in rangei(low, high)]\n",
    "\n",
    "def has_same_adjacents(num):\n",
    "    n = digits(num)\n",
    "    for i in range(1, n):\n",
    "        if get_digit(num, i) == get_digit(num, i - 1):\n",
    "            return True\n",
    "    return False\n",
    "\n",
    "def never_decrease(num):\n",
    "    n = digits(num)\n",
    "    for i in range(n - 1, 0, -1):\n",
    "        if get_digit(num, i) > get_digit(num, i - 1):\n",
    "            return False\n",
    "    return True\n",
    "\n",
    "qualified_password = filter(has_same_adjacents, inputs)\n",
    "qualified_password = filter(never_decrease, qualified_password)\n",
    "len(list(qualified_password))"
   ]
  },
  {
   "cell_type": "code",
   "execution_count": 7,
   "metadata": {},
   "outputs": [
    {
     "data": {
      "text/plain": [
       "748"
      ]
     },
     "execution_count": 7,
     "metadata": {},
     "output_type": "execute_result"
    }
   ],
   "source": [
    "def has_same_adjacents_not_in_larger_group(num):\n",
    "    n = digits(num)\n",
    "    for i in range(0, n - 1):\n",
    "        if get_digit(num, i) == get_digit(num, i + 1) and \\\n",
    "            (i == 0 or get_digit(num, i) != get_digit(num, i - 1)) and \\\n",
    "            (i == 4 or get_digit(num, i) != get_digit(num, i + 2)):\n",
    "                return True\n",
    "    return False\n",
    "\n",
    "qualified_password = filter(has_same_adjacents_not_in_larger_group, inputs)\n",
    "qualified_password = filter(never_decrease, qualified_password)\n",
    "len(list(qualified_password))"
   ]
  },
  {
   "cell_type": "markdown",
   "metadata": {},
   "source": [
    "## Day 5"
   ]
  },
  {
   "cell_type": "code",
   "execution_count": 78,
   "metadata": {},
   "outputs": [
    {
     "name": "stdout",
     "output_type": "stream",
     "text": [
      "9006673\n"
     ]
    }
   ],
   "source": [
    "input_file = open('day5.txt')\n",
    "lines = input_file.read().splitlines()\n",
    "inputs = [[int(n) for n in l.split(\",\")] for l in lines]\n",
    "\n",
    "HALT = 99\n",
    "ADD = 1\n",
    "MULT = 2\n",
    "INPUT = 3\n",
    "OUTPUT = 4\n",
    "JUMP_TRUE = 5\n",
    "JUMP_FALSE = 6\n",
    "LESS_THAN = 7\n",
    "EQUALS = 8\n",
    "\n",
    "POSITION_MODE = 0\n",
    "IMMEDIATE_MODE = 1\n",
    "\n",
    "def get_value(mode, i, programs):\n",
    "    if mode == POSITION_MODE:\n",
    "        return programs[programs[i]]\n",
    "    if mode == IMMEDIATE_MODE:\n",
    "        return programs[i]\n",
    "    return None\n",
    "\n",
    "class IntCode:\n",
    "    \n",
    "    def __init__(self, programs):\n",
    "        self.programs = programs.copy()\n",
    "        self.pointer = 0\n",
    "        self.halt = False\n",
    "        \n",
    "    def run(self, inputs):\n",
    "        programs = self.programs\n",
    "        input_pointer = 0\n",
    "        output = None\n",
    "        \n",
    "        while programs[self.pointer] != HALT:\n",
    "            instruction = programs[self.pointer]\n",
    "            opcode = instruction % 100\n",
    "            mode1 = (instruction // 100) % 10\n",
    "            mode2 = (instruction // 1000) % 10\n",
    "            if opcode == ADD:\n",
    "                a = get_value(mode1, self.pointer + 1, programs)\n",
    "                b = get_value(mode2, self.pointer + 2, programs)\n",
    "                programs[programs[self.pointer + 3]] =  a + b\n",
    "                self.pointer += 4\n",
    "            elif opcode == MULT:\n",
    "                a = get_value(mode1, self.pointer + 1, programs)\n",
    "                b = get_value(mode2, self.pointer + 2, programs)\n",
    "                programs[programs[self.pointer + 3]] =  a * b\n",
    "                self.pointer += 4\n",
    "            elif opcode == INPUT: \n",
    "                if input_pointer > len(inputs) - 1:\n",
    "                    return output # waiting for input\n",
    "                programs[programs[self.pointer + 1]] = inputs[input_pointer]\n",
    "                input_pointer += 1\n",
    "                self.pointer += 2\n",
    "            elif opcode == OUTPUT:\n",
    "                output = programs[programs[self.pointer + 1]]\n",
    "                self.pointer += 2\n",
    "            elif opcode == JUMP_TRUE:\n",
    "                a = get_value(mode1, self.pointer + 1, programs)\n",
    "                b = get_value(mode2, self.pointer + 2, programs)\n",
    "                self.pointer = b if a != 0 else self.pointer + 3\n",
    "            elif opcode == JUMP_FALSE:\n",
    "                a = get_value(mode1, self.pointer + 1, programs)\n",
    "                b = get_value(mode2, self.pointer + 2, programs)\n",
    "                self.pointer = b if a == 0 else self.pointer + 3\n",
    "            elif opcode == LESS_THAN:\n",
    "                a = get_value(mode1, self.pointer + 1, programs)\n",
    "                b = get_value(mode2, self.pointer + 2, programs)\n",
    "                programs[programs[self.pointer + 3]] = 1 if a < b else 0\n",
    "                self.pointer += 4\n",
    "            elif opcode == EQUALS:\n",
    "                a = get_value(mode1, self.pointer + 1, programs)\n",
    "                b = get_value(mode2, self.pointer + 2, programs)\n",
    "                programs[programs[self.pointer + 3]] = 1 if a == b else 0\n",
    "                self.pointer += 4\n",
    "            else:\n",
    "                raise Exception(f'unsupported opcode {opcode}') \n",
    "        self.halt = True\n",
    "        return output\n",
    "    \n",
    "comp = IntCode(inputs[0])\n",
    "print(comp.run([7]))"
   ]
  },
  {
   "cell_type": "markdown",
   "metadata": {},
   "source": [
    "## Day 6"
   ]
  },
  {
   "cell_type": "code",
   "execution_count": 59,
   "metadata": {},
   "outputs": [
    {
     "name": "stdout",
     "output_type": "stream",
     "text": [
      "part 1 - total orbits: \n",
      "227612\n",
      "part 2, path SAN to YOU: \n",
      "454\n"
     ]
    }
   ],
   "source": [
    "input_file = open('day6.txt')\n",
    "lines = input_file.read().splitlines()\n",
    "\n",
    "class Star:\n",
    "    def __init__(self, name):\n",
    "        self.name = name\n",
    "        self.orbits = set()\n",
    "        self.parent = None\n",
    "        \n",
    "    def __eq__(self, other):\n",
    "        return isinstance(other, Star) and self.name == other.name\n",
    "\n",
    "    def __hash__(self):\n",
    "        return hash(self.name)\n",
    "\n",
    "    def __str__(self):\n",
    "        return self.name\n",
    "    \n",
    "    def __repr__(self):\n",
    "        return self.name\n",
    "    \n",
    "    def add_orbitter(self, o):\n",
    "        self.orbits.add(o)\n",
    "        o.parent = self\n",
    "    \n",
    "def fetch_or_create_star(star_name, universe):\n",
    "    if star_name in universe:\n",
    "        return universe[star_name]\n",
    "    universe[star_name] = Star(star_name)\n",
    "    return universe[star_name]\n",
    "\n",
    "universe = {}\n",
    "\n",
    "for l in lines:\n",
    "    station_name, orbit_name = l.split(\")\")\n",
    "    station_star = fetch_or_create_star(station_name, universe)\n",
    "    orbit_star = fetch_or_create_star(orbit_name, universe)\n",
    "    station_star.add_orbitter(orbit_star)\n",
    "        \n",
    "def count_orbits(s):\n",
    "    if len(s.orbits) == 0:\n",
    "        return 0\n",
    "    return len(s.orbits) + sum([count_orbits(o) for o in s.orbits])\n",
    "\n",
    "print(\"part 1 - total orbits: \")\n",
    "print(sum([count_orbits(s) for s in universe.values()]))\n",
    "\n",
    "# part 2\n",
    "def path_to_root(star):\n",
    "    path = []\n",
    "    p = star.parent\n",
    "    while p != None:\n",
    "        path.append(p)\n",
    "        p = p.parent\n",
    "    return path\n",
    "\n",
    "print(\"part 2, path SAN to YOU: \")\n",
    "print(len(set(path_to_root(universe[\"YOU\"])) ^ set(path_to_root(universe[\"SAN\"]))))"
   ]
  },
  {
   "cell_type": "markdown",
   "metadata": {},
   "source": [
    "## Day 7"
   ]
  },
  {
   "cell_type": "code",
   "execution_count": 73,
   "metadata": {},
   "outputs": [
    {
     "data": {
      "text/plain": [
       "92663"
      ]
     },
     "execution_count": 73,
     "metadata": {},
     "output_type": "execute_result"
    }
   ],
   "source": [
    "input_file = open('day7.txt')\n",
    "lines = input_file.read().splitlines()\n",
    "instruction = [int(i) for i in lines[0].split(',')]\n",
    "\n",
    "import itertools\n",
    "\n",
    "def find_max_thrust(program, number_of_amps):\n",
    "    phase_settings = itertools.permutations(range(number_of_amps))\n",
    "    max_thrust = 0\n",
    "\n",
    "    max_thrust = 0\n",
    "    \n",
    "    for p in phase_settings:\n",
    "        amps = [IntCode(program) for i in range(number_of_amps)]\n",
    "        max_thurst = 0\n",
    "        output = 0\n",
    "        for i in range(0, len(amps)):\n",
    "            output = amps[i].run([p[i], output])\n",
    "            max_thrust = max(output, max_thrust)\n",
    "            \n",
    "    return max_thrust\n",
    "\n",
    "find_max_thrust(instruction, 5)"
   ]
  },
  {
   "cell_type": "code",
   "execution_count": 79,
   "metadata": {},
   "outputs": [
    {
     "data": {
      "text/plain": [
       "14365052"
      ]
     },
     "execution_count": 79,
     "metadata": {},
     "output_type": "execute_result"
    }
   ],
   "source": [
    "def find_max_thurst_feedback_loop(program, number_of_amps, phase_settings):\n",
    "    max_thrust = 0\n",
    "    \n",
    "    for p in phase_settings:\n",
    "        amps = [IntCode(program) for i in range(number_of_amps)]\n",
    "        output = 0\n",
    "        first_phase = True\n",
    "        idx = 0\n",
    "        \n",
    "        while not amps[-1].halt:\n",
    "            if first_phase:\n",
    "                output = amps[idx].run([p[idx], output])\n",
    "            else:\n",
    "                output = amps[idx].run([output])\n",
    "            idx += 1\n",
    "            if idx == number_of_amps: \n",
    "                first_phase = False\n",
    "                idx = 0\n",
    "            \n",
    "        max_thrust = max(max_thrust, output)\n",
    "    \n",
    "    return max_thrust\n",
    "\n",
    "find_max_thurst_feedback_loop(instruction, 5, list(itertools.permutations(range(5, 10))))"
   ]
  },
  {
   "cell_type": "markdown",
   "metadata": {},
   "source": [
    "## Day 8"
   ]
  },
  {
   "cell_type": "code",
   "execution_count": 61,
   "metadata": {},
   "outputs": [
    {
     "data": {
      "text/plain": [
       "1064"
      ]
     },
     "execution_count": 61,
     "metadata": {},
     "output_type": "execute_result"
    }
   ],
   "source": [
    "input_file = open('day8.txt')\n",
    "lines = input_file.read().splitlines()\n",
    "rawInput = lines[0]\n",
    "\n",
    "\n",
    "import numpy as np\n",
    "np.set_printoptions(linewidth=250)\n",
    "\n",
    "\n",
    "arr = np.array([int(c) for c in lines[0]])\n",
    "\n",
    "W = 25\n",
    "H = 6\n",
    "\n",
    "arr = arr.reshape(-1, W, H,)\n",
    "\n",
    "summary = []\n",
    "\n",
    "for i in range(arr.shape[0]):\n",
    "    zeros = np.sum([1 for x in arr[i, :, :].flat if x == 0])\n",
    "    ones = np.sum([1 for x in arr[i, :, :].flat if x == 1])\n",
    "    twos = np.sum([1 for x in arr[i, :, :].flat if x == 2])\n",
    "    summary.append([zeros, ones, twos])\n",
    "\n",
    "summary.sort(key=lambda x: x[0])\n",
    "\n",
    "summary[0][1] * summary[0][2]"
   ]
  }
 ],
 "metadata": {
  "kernelspec": {
   "display_name": "Python 3",
   "language": "python",
   "name": "python3"
  },
  "language_info": {
   "codemirror_mode": {
    "name": "ipython",
    "version": 3
   },
   "file_extension": ".py",
   "mimetype": "text/x-python",
   "name": "python",
   "nbconvert_exporter": "python",
   "pygments_lexer": "ipython3",
   "version": "3.7.5"
  }
 },
 "nbformat": 4,
 "nbformat_minor": 4
}
