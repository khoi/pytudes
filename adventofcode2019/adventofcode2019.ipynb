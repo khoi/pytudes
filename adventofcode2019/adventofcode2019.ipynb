{
 "cells": [
  {
   "cell_type": "markdown",
   "metadata": {},
   "source": [
    "## Day 1"
   ]
  },
  {
   "cell_type": "code",
   "execution_count": 1,
   "metadata": {},
   "outputs": [
    {
     "name": "stdout",
     "output_type": "stream",
     "text": [
      "3337604\n",
      "5003530\n"
     ]
    }
   ],
   "source": [
    "def fuel(mass):\n",
    "    return (mass // 3) - 2\n",
    "\n",
    "def fuel2(mass):\n",
    "    res = (mass // 3) - 2\n",
    "    if res <= 0:\n",
    "        return 0\n",
    "    return res + fuel2(res)\n",
    "\n",
    "f = open('day1.txt')\n",
    "masses = [int(v) for v in f.read().splitlines()]\n",
    "\n",
    "print(sum([fuel(x) for x in masses]))\n",
    "print(sum([fuel2(x) for x in masses]))"
   ]
  },
  {
   "cell_type": "markdown",
   "metadata": {},
   "source": [
    "## Day 2"
   ]
  },
  {
   "cell_type": "code",
   "execution_count": 2,
   "metadata": {},
   "outputs": [
    {
     "name": "stdout",
     "output_type": "stream",
     "text": [
      "noun 53, verb 79\n",
      "5379\n"
     ]
    }
   ],
   "source": [
    "import os\n",
    "f = open('day2.txt')\n",
    "inputs = [int(code) for code in f.read().split(\",\")]\n",
    "\n",
    "\n",
    "def day2(codes):\n",
    "    codes = codes.copy()\n",
    "    idx = 0\n",
    "    while idx < len(codes):\n",
    "        opcode = codes[idx]\n",
    "        aIdx = codes[idx + 1]\n",
    "        bIdx = codes[idx + 2]\n",
    "        resultIdx = codes[idx + 3]\n",
    "        if opcode == 99:\n",
    "            return codes[0]\n",
    "        elif opcode == 1:\n",
    "            codes[resultIdx] = codes[aIdx] + codes[bIdx]\n",
    "        elif opcode == 2:\n",
    "            codes[resultIdx] = codes[aIdx] * codes[bIdx]\n",
    "        else:\n",
    "            raise Exception('WTF!') \n",
    "        idx += 4\n",
    "    return codes[0]\n",
    "    \n",
    "part1Inputs = inputs.copy()\n",
    "part1Inputs[1] = 12\n",
    "part1Inputs[2] = 2\n",
    "r = day2(inputs)\n",
    "\n",
    "nouns = list(range(0, 100))\n",
    "verbs = list(range(0, 100))\n",
    "expected_output = 19690720\n",
    "part2Inputs = inputs.copy()\n",
    "\n",
    "for n in nouns:\n",
    "    for v in verbs:\n",
    "        part2Inputs[1] = n\n",
    "        part2Inputs[2] = v\n",
    "        if (day2(part2Inputs) == expected_output):\n",
    "            print(f\"noun {n}, verb {v}\")\n",
    "            print(100 * n + v)"
   ]
  },
  {
   "cell_type": "markdown",
   "metadata": {},
   "source": [
    "## Day 3"
   ]
  },
  {
   "cell_type": "code",
   "execution_count": 3,
   "metadata": {},
   "outputs": [
    {
     "data": {
      "text/plain": [
       "1337"
      ]
     },
     "execution_count": 3,
     "metadata": {},
     "output_type": "execute_result"
    }
   ],
   "source": [
    "f = open('day3.txt')\n",
    "inputs = f.read().splitlines()\n",
    "first = inputs[0].split(\",\")\n",
    "second = inputs[1].split(\",\")\n",
    "\n",
    "def build_visited(instructions):\n",
    "    visited = {(0, 0)} # started at the first node\n",
    "    curr = (0,0)\n",
    "    for p in instructions: \n",
    "        direction = p[0]\n",
    "        step = int(p[1:])\n",
    "        if direction == \"U\":\n",
    "            visited.update([(curr[0], curr[1] + i + 1) for i in range(0, step)])\n",
    "            curr = (curr[0], curr[1] + step)\n",
    "        if direction == \"R\":\n",
    "            visited.update([(curr[0] + i + 1, curr[1]) for i in range(0, step)])\n",
    "            curr = (curr[0] + step, curr[1])\n",
    "        if direction == \"D\":\n",
    "            visited.update([(curr[0], curr[1] - i - 1) for i in range(0, step)])\n",
    "            curr = (curr[0], curr[1] - step)\n",
    "        if direction == \"L\":\n",
    "            visited.update([(curr[0] - i - 1, curr[1]) for i in range(0, step)])\n",
    "            curr = (curr[0] - step, curr[1])\n",
    "    return visited\n",
    "\n",
    "def manhattan_distance(x1, y1, x2, y2):\n",
    "    return abs(x1 - x2) + abs(y1 - y2)\n",
    "\n",
    "\n",
    "intersections = build_visited(first) & build_visited(second)\n",
    "intersections.remove((0,0)) # 0,0 doesn't count\n",
    "min([manhattan_distance(0,0,i[0],i[1]) for i in intersections])"
   ]
  },
  {
   "cell_type": "code",
   "execution_count": 5,
   "metadata": {},
   "outputs": [
    {
     "data": {
      "text/plain": [
       "65356"
      ]
     },
     "execution_count": 5,
     "metadata": {},
     "output_type": "execute_result"
    }
   ],
   "source": [
    "def shortest_distance(instructions, intersection):\n",
    "    curr = (0,0)\n",
    "    step_taken = 0\n",
    "    for p in instructions: \n",
    "        direction = p[0]\n",
    "        step = int(p[1:])\n",
    "        if direction == \"U\":\n",
    "            if intersection[0] == curr[0] and (curr[1] + step) > intersection[1]:\n",
    "                return step_taken + abs(curr[1] - intersection[1])\n",
    "            curr = (curr[0], curr[1] + step)\n",
    "        if direction == \"R\":\n",
    "            if intersection[1] == curr[1] and (curr[0] + step) > intersection[0]:\n",
    "                return step_taken + abs(curr[0] - intersection[0])\n",
    "            curr = (curr[0] + step, curr[1])\n",
    "        if direction == \"D\":\n",
    "            if intersection[0] == curr[0] and (curr[1] - step) < intersection[1]:\n",
    "                return step_taken + abs(curr[1] - intersection[1])\n",
    "            curr = (curr[0], curr[1] - step)\n",
    "        if direction == \"L\":\n",
    "            if intersection[1] == curr[1] and (curr[0] - step) < intersection[0]:\n",
    "                return step_taken + abs(curr[0] - intersection[0])\n",
    "            curr = (curr[0] - step, curr[1])\n",
    "        step_taken += step\n",
    "    return 99999\n",
    "\n",
    "intersections = build_visited(first) & build_visited(second)\n",
    "intersections.remove((0,0))\n",
    "min([shortest_distance(first, i) + shortest_distance(second, i) for i in intersections])"
   ]
  },
  {
   "cell_type": "code",
   "execution_count": null,
   "metadata": {},
   "outputs": [],
   "source": []
  }
 ],
 "metadata": {
  "kernelspec": {
   "display_name": "Python 3",
   "language": "python",
   "name": "python3"
  },
  "language_info": {
   "codemirror_mode": {
    "name": "ipython",
    "version": 3
   },
   "file_extension": ".py",
   "mimetype": "text/x-python",
   "name": "python",
   "nbconvert_exporter": "python",
   "pygments_lexer": "ipython3",
   "version": "3.7.5"
  }
 },
 "nbformat": 4,
 "nbformat_minor": 2
}
